{
 "cells": [
  {
   "cell_type": "markdown",
   "metadata": {},
   "source": [
    "# WSD глагола \"break\". Результат тетрадки: 3/10\n",
    "\n",
    "\n",
    "В этой тетрадке использовались такие способы: \n",
    "1. использование другого размера контекстного окна\n",
    "2. в Леске брались только определения\n",
    "3. брались только примеры\n",
    "4. брались и примеры, и определения\n",
    "5. это все тестировалось со стоп-словами/без стоп-слов\n",
    "6. стемминг\n",
    "7. POS-теггинг слов \"break\"\n",
    "9. вместо контекстов в алгоритме Леска бралось просто предложение (и это показало лучший результат, нежели чем контексты). \n",
    "\n",
    "Я специально старалась не подбирать \"более удобную\" выборку предложений со словом break, поэтому все эти эксперименты честные. Основные проблемы экспериментов заключаются в том, что, во-первых, в Wordnet представлены далеко не все значения (особенно слов \"break\", связанных с разными видами спорта, и фразовых глаголов); во-вторых, практически нет совпадений между лексиконом моей выборки и определениями и примерами из Wordnet. POS-теггинг немного помог, но все же одним Леском в случае такого корпуса не обойтись. \n",
    "\n",
    "\n",
    "Отсюда начинается подготовка данных. "
   ]
  },
  {
   "cell_type": "code",
   "execution_count": 15,
   "metadata": {
    "collapsed": false
   },
   "outputs": [],
   "source": [
    "from nltk.tokenize import word_tokenize\n",
    "from nltk.corpus import stopwords\n",
    "from nltk.corpus import wordnet as wn\n",
    "from nltk.tokenize import sent_tokenize\n",
    "from nltk.wsd import lesk\n",
    "from string import punctuation\n",
    "\n",
    "punct = punctuation+'«»—…“”*№–'\n",
    "stops = set(stopwords.words('english'))\n",
    "\n",
    "\n",
    "def tokenize(text):\n",
    "    \n",
    "    words = [word.strip(punct) for word in text.lower().split() if word and word not in stops]\n",
    "    words = [word for word in words if word]\n",
    "\n",
    "    return words"
   ]
  },
  {
   "cell_type": "markdown",
   "metadata": {},
   "source": [
    "#### 1. Разобьем корпус на предложения с помощью nltk.sent_tokenize() "
   ]
  },
  {
   "cell_type": "code",
   "execution_count": 16,
   "metadata": {
    "collapsed": false
   },
   "outputs": [],
   "source": [
    "initial_corpus = [text for text in open('corpus_eng.txt')]\n",
    "sent_corpus = []\n",
    "for text in initial_corpus:\n",
    "    sents = sent_tokenize(text)\n",
    "    for sent in sents:\n",
    "        sent_corpus.append(sent)"
   ]
  },
  {
   "cell_type": "code",
   "execution_count": 17,
   "metadata": {
    "collapsed": false,
    "scrolled": true
   },
   "outputs": [
    {
     "data": {
      "text/plain": [
       "198699"
      ]
     },
     "execution_count": 17,
     "metadata": {},
     "output_type": "execute_result"
    }
   ],
   "source": [
    "len(sent_corpus)"
   ]
  },
  {
   "cell_type": "markdown",
   "metadata": {},
   "source": [
    "#### 2. Составим корпус из предложений, где есть слово 'break'"
   ]
  },
  {
   "cell_type": "code",
   "execution_count": 18,
   "metadata": {
    "collapsed": false
   },
   "outputs": [
    {
     "data": {
      "text/plain": [
       "448"
      ]
     },
     "execution_count": 18,
     "metadata": {},
     "output_type": "execute_result"
    }
   ],
   "source": [
    "break_corpus = [sent for sent in sent_corpus if 'break' in tokenize(sent)]\n",
    "len(break_corpus)"
   ]
  },
  {
   "cell_type": "code",
   "execution_count": 19,
   "metadata": {
    "collapsed": false
   },
   "outputs": [
    {
     "data": {
      "text/plain": [
       "['They break the rules in order to convince the rule-makers that they need to change the rules, which is itself a kind of state-approved process.',\n",
       " 'In the second innings, he got locked up in his position so much, intent on trying to play an offspinner against the turn, that he was stunned by a big-turning off break that ricocheted off his pads and fell on the stumps.',\n",
       " 'She wasn’t very easy to break in.',\n",
       " 'Their five-day schedule break is Feb. 10-15 and they have 13 of their final 20 games at home starting March 2.',\n",
       " '\"Back in my poor college days when I worked at Walmart we had a fight break out over a bike.',\n",
       " 'Since then, the party has said it respects the will of the people, but many Labour lawmakers are hoping to steer the talks with the European Union away from what some fear will be a clean break with the bloc\\'s lucrative single market - the so-called \"hard Brexit.\"',\n",
       " 'or is it to break the record of first president to get indicted and cuffed while being sworn in?',\n",
       " '“Yes, I broke the law but what do we do about the diagnosis that caused me to break the law?”',\n",
       " '“If Moana boldly ventures beyond the reef, so, too, does the breathtakingly beautiful animation break fresh visual ground,” he wrote .',\n",
       " 'Mr. Ketter said that, despite the slump, the company has managed to break even in the Brazilian market.']"
      ]
     },
     "execution_count": 19,
     "metadata": {},
     "output_type": "execute_result"
    }
   ],
   "source": [
    "break_corpus[:10]"
   ]
  },
  {
   "cell_type": "markdown",
   "metadata": {},
   "source": [
    "#### 3. Выберем 10 случайных предложений из этого корпуса"
   ]
  },
  {
   "cell_type": "code",
   "execution_count": 20,
   "metadata": {
    "collapsed": false
   },
   "outputs": [],
   "source": [
    "import random\n",
    "random.seed(5)\n",
    "\n",
    "corpus_10 = random.sample(break_corpus, 10)"
   ]
  },
  {
   "cell_type": "markdown",
   "metadata": {},
   "source": [
    "#### 4. Проверим, правильно ли определяются значения слова \"break\" с помощью алгоритма Леска"
   ]
  },
  {
   "cell_type": "code",
   "execution_count": 21,
   "metadata": {
    "collapsed": true
   },
   "outputs": [],
   "source": [
    "def get_words_in_context(words, window=3):\n",
    "    words2context = []\n",
    "    for i in range(len(words)):\n",
    "        left = words[max(0,i-window):i] \n",
    "        right = words[i+1:i+window+1]\n",
    "        target = words[i]\n",
    "        words2context.append((target, left+right)) \n",
    "    return words2context\n",
    "\n",
    "\n",
    "def lesk(word: type = str, sentence: type = list):\n",
    "    bestsense = 0\n",
    "    maxoverlap = 0 \n",
    "    for i, synset in enumerate(wn.synsets(word)):\n",
    "        definition = tokenize(synset.definition())\n",
    "        definition = set(definition)\n",
    "        sentence = set(sentence)\n",
    "        overlap = len(definition & sentence)          \n",
    "        if overlap > maxoverlap:\n",
    "            maxoverlap = overlap\n",
    "            bestsense = i  \n",
    "    return bestsense"
   ]
  },
  {
   "cell_type": "markdown",
   "metadata": {},
   "source": [
    "Сначала посмотрим на возможные значения:"
   ]
  },
  {
   "cell_type": "code",
   "execution_count": 22,
   "metadata": {
    "collapsed": false,
    "scrolled": false
   },
   "outputs": [
    {
     "name": "stdout",
     "output_type": "stream",
     "text": [
      "0 some abrupt occurrence that interrupts an ongoing activity ['the telephone is an annoying interruption', 'there was a break in the action when a player was hurt']\n",
      "1 an unexpected piece of good luck ['he finally got his big break']\n",
      "2 (geology) a crack in the earth's crust resulting from the displacement of one side with respect to the other ['they built it right over a geological fault', \"he studied the faulting of the earth's crust\"]\n",
      "3 a personal or social separation (as between opposing factions) ['they hoped to avoid a break in relations']\n",
      "4 a pause from doing something (as work) ['we took a 10-minute break', 'he took time out to recuperate']\n",
      "5 the act of breaking something ['the breakage was unavoidable']\n",
      "6 a time interval during which there is a temporary cessation of something []\n",
      "7 breaking of hard tissue such as bone ['it was a nasty fracture', 'the break seems to have been caused by a fall']\n",
      "8 the occurrence of breaking ['the break in the dam threatened the valley']\n",
      "9 an abrupt change in the tone or register of the voice (as at puberty or due to emotion) ['then there was a break in her voice']\n",
      "10 the opening shot that scatters the balls in billiards or pool []\n",
      "11 (tennis) a score consisting of winning a game when your opponent was serving ['he was up two breaks in the second set']\n",
      "12 an act of delaying or interrupting the continuity ['it was presented without commercial breaks', 'there was a gap in his account']\n",
      "13 a sudden dash ['he made a break for the open door']\n",
      "14 any frame in which a bowler fails to make a strike or spare ['the break in the eighth frame cost him the match']\n",
      "15 an escape from jail ['the breakout was carefully planned']\n",
      "16 terminate ['She interrupted her pregnancy', 'break a lucky streak', 'break the cycle of poverty']\n",
      "17 become separated into pieces or fragments ['The figurine broke', 'The freshly baked loaf fell apart']\n",
      "18 render inoperable or ineffective ['You broke the alarm clock when you took it apart!']\n",
      "19 ruin completely ['He busted my radio!']\n",
      "20 destroy the integrity of; usually by force; cause to separate into pieces or fragments ['He broke the glass plate', 'She broke the match']\n",
      "21 act in disregard of laws, rules, contracts, or promises ['offend all laws of humanity', 'violate the basic laws or human civilization', 'break a law', 'break a promise']\n",
      "22 move away or escape suddenly ['The horses broke from the stable', 'Three inmates broke jail', 'Nobody can break out--this prison is high security']\n",
      "23 scatter or part ['The clouds broke after the heavy downpour']\n",
      "24 force out or release suddenly and often violently something pent up ['break into tears', 'erupt in anger']\n",
      "25 prevent completion ['stop the project', 'break off the negotiations']\n",
      "26 enter someone's (virtual or real) property in an unauthorized manner, usually with the intent to steal or commit a violent act ['Someone broke in while I was on vacation', 'They broke into my car and stole my radio!', 'who broke into my account last night?']\n",
      "27 make submissive, obedient, or useful ['The horse was tough to break', 'I broke in the new intern']\n",
      "28 fail to agree with; be in violation of; as of rules or patterns ['This sentence violates the rules of syntax']\n",
      "29 surpass in excellence ['She bettered her own record', 'break a record']\n",
      "30 make known to the public information that was previously known only to a few people or that was meant to be kept a secret ['The auction house would not disclose the price at which the van Gogh had sold', \"The actress won't reveal how old she is\", 'bring out the truth', 'he broke the news to her', 'unwrap the evidence in the murder case']\n",
      "31 come into being ['light broke over the horizon', 'Voices broke in the air']\n",
      "32 stop operating or functioning ['The engine finally went', 'The car died on the road', 'The bus we travelled in broke down on the way to town', 'The coffee maker broke', 'The engine failed on the way to town', 'her eyesight went after the accident']\n",
      "33 interrupt a continued activity ['She had broken with the traditional patterns']\n",
      "34 make a rupture in the ranks of the enemy or one's own by quitting or fleeing ['The ranks broke']\n",
      "35 curl over and fall apart in surf or foam, of waves ['The surf broke']\n",
      "36 lessen in force or effect ['soften a shock', 'break a fall']\n",
      "37 be broken in [\"If the new teacher won't break, we'll add some stress\"]\n",
      "38 come to an end ['The heat wave finally broke yesterday']\n",
      "39 vary or interrupt a uniformity or continuity ['The flat plain was broken by tall mesas']\n",
      "40 cause to give up a habit ['She finally broke herself of smoking cigarettes']\n",
      "41 give up ['break cigarette smoking']\n",
      "42 come forth or begin from a state of latency ['The first winter storm broke over New York']\n",
      "43 happen or take place ['Things have been breaking pretty well for us in the past few months']\n",
      "44 cause the failure or ruin of ['His peccadilloes finally broke his marriage', 'This play will either make or break the playwright']\n",
      "45 invalidate by judicial action ['The will was broken']\n",
      "46 discontinue an association or relation; go different ways ['The business partners broke over a tax question', 'The couple separated after 25 years of marriage', 'My friend and I split up']\n",
      "47 assign to a lower position; reduce in rank ['She was demoted because she always speaks up', 'He was broken down to Sergeant']\n",
      "48 reduce to bankruptcy [\"My daughter's fancy wedding is going to break me!\", 'The slump in the financial markets smashed him']\n",
      "49 change directions suddenly []\n",
      "50 emerge from the surface of a body of water ['The whales broke']\n",
      "51 break down, literally or metaphorically ['The wall collapsed', 'The business collapsed', 'The dam broke', 'The roof collapsed', 'The wall gave in', 'The roof finally gave under the weight of the ice']\n",
      "52 do a break dance ['Kids were break-dancing at the street corner']\n",
      "53 exchange for smaller units of money ['I had to break a $100 bill just to buy the candy']\n",
      "54 destroy the completeness of a set of related items ['The book dealer would not break the set']\n",
      "55 make the opening shot that scatters the balls []\n",
      "56 separate from a clinch, in boxing ['The referee broke the boxers']\n",
      "57 go to pieces ['The lawn mower finally broke', 'The gears wore out', 'The old chair finally fell apart completely']\n",
      "58 break a piece from a whole ['break a branch from a tree']\n",
      "59 become punctured or penetrated ['The skin broke']\n",
      "60 pierce or penetrate ['The blade broke her skin']\n",
      "61 be released or become known; of news ['News of her death broke in the morning']\n",
      "62 cease an action temporarily ['We pause for station identification', \"let's break for lunch\"]\n",
      "63 interrupt the flow of current in ['break a circuit']\n",
      "64 undergo breaking ['The simple vowels broke in many Germanic languages']\n",
      "65 find a flaw in ['break an alibi', 'break down a proof']\n",
      "66 find the solution or key to ['break the code']\n",
      "67 change suddenly from one tone quality or register to another ['Her voice broke to a whisper when she started to talk about her children']\n",
      "68 happen ['Report the news as it develops', 'These political movements recrudesce from time to time']\n",
      "69 become fractured; break or crack on the surface only ['The glass cracked when it was heated']\n",
      "70 crack; of the male voice in puberty ['his voice is breaking--he should no longer sing in the choir']\n",
      "71 fall sharply ['stock prices broke']\n",
      "72 fracture a bone of ['I broke my foot while playing hockey']\n",
      "73 diminish or discontinue abruptly [\"The patient's fever broke last night\"]\n",
      "74 weaken or destroy in spirit or body ['His resistance was broken', 'a man broken by the terrible experience of near-death']\n"
     ]
    }
   ],
   "source": [
    "for i, synset in enumerate(wn.synsets(\"break\")):\n",
    "    print(i, synset.definition(), synset.examples())"
   ]
  },
  {
   "cell_type": "markdown",
   "metadata": {},
   "source": [
    "И на предложения:"
   ]
  },
  {
   "cell_type": "code",
   "execution_count": 23,
   "metadata": {
    "collapsed": false
   },
   "outputs": [
    {
     "name": "stdout",
     "output_type": "stream",
     "text": [
      "0 Dog's pitch invasion forces early tea break\n",
      "1 Let's talk about what changes Trump might make regarding tax cuts, the Iran nuclear agreement, trade and what the consequences might be if Trump starts a trade war with China after we take a short break.\n",
      "2 The insurgents had seized a couple of strategic areas in western Aleppo after launching an offensive on Oct. 28 in an attempt to break the siege imposed in July on rebel-held eastern Aleppo, which has also been targeted by waves of Syrian and Russian airstrikes.\n",
      "3 But Iranian international Azmoun levelled for Rostov just before the break after turning Jerome Boateng to coolly slot past Ulreich.\n",
      "4 They represent a grand break from the past.\n",
      "5 Woodland is making only his third start on the 2016-17 PGA Tour, having put down his golf clubs for a while to get married and have an extended break from the game.\n",
      "6 Cohen, a native of Quebec, was already a celebrated poet and novelist when he moved to New York in 1966 at age 31 to break into the music business.\n",
      "7 BEIRUT (AP) — Syrian government forces regained control Saturday of areas they lost over the past two weeks to a rebel offensive on the edge of the northern city of Aleppo, ending a major attempt by insurgents to break the siege on eastern parts of the city, an activist group and pro-government media said.\n",
      "8 This is usually sufficient to keep the sinker from moving, but at times you may want to also jam the other end of the toothpick into the back of the cone and break it off to keep the sinker completely immobile.\n",
      "9 Home town boy Jadeja had earlier given India the first break at 47, successfully earning a shout for leg before wicket against England skipper Cook.\n"
     ]
    }
   ],
   "source": [
    "for i, sent in enumerate(corpus_10):\n",
    "    print(i, sent)"
   ]
  },
  {
   "cell_type": "markdown",
   "metadata": {},
   "source": [
    "На всякий случай, уточним контексты нескольких предложений:"
   ]
  },
  {
   "cell_type": "code",
   "execution_count": 24,
   "metadata": {
    "collapsed": false
   },
   "outputs": [
    {
     "name": "stdout",
     "output_type": "stream",
     "text": [
      "But Iranian international Azmoun levelled for Rostov just before the break after turning Jerome Boateng to coolly slot past Ulreich.\n",
      "\n",
      "Home town boy Jadeja had earlier given India the first break at 47, successfully earning a shout for leg before wicket against England skipper Cook. \n",
      "\n",
      "Share Stuart Broad suffers foot injury in second Test - Yahoo7 Stuart Broad has a foot problem but England do not yet know how serious it is, according to the bowler's opening partner James Anderson. Dog's pitch invasion forces early tea break UP NEXT VIDEO Dog's pitch invasion forces early tea break. Source: FoxSports. Dog's pitch invasion forces early tea break \n",
      "\n",
      "You can peg the slip sinker to prevent it from sliding on the line. Jam one end of a toothpick in the head of a sinker as far as it will go, then break or clip it off. This is usually sufficient to keep the sinker from moving, but at times you may want to also jam the other end of the toothpick into the back of the cone and break it off to keep the sinker completely immobile. An alternative way of accomplishing the same thing is to use a slip sinker with a wire corkscrew stem, which holds the worm in place. \n",
      "\n",
      "Make in India, bullet train, Smart Cities, Swachch Bharat, surgical strike, demonetisation. All of these and other initiatives of Modi share a pattern. They represent a grand break from the past. They promise to rip away the old and decayed and replace it with something new and better. \n",
      "\n"
     ]
    }
   ],
   "source": [
    "for text in initial_corpus:\n",
    "    if \"Dog's pitch invasion forces early tea break\" in text:\n",
    "        print(text)\n",
    "    elif \"But Iranian international Azmoun levelled for Rostov\" in text:\n",
    "        print(text)\n",
    "    elif \"They represent a grand break from the past\" in text:\n",
    "        print(text)\n",
    "    elif \"This is usually sufficient to keep the sinker from moving\" in text:\n",
    "        print(text)\n",
    "    elif \"Home town boy Jadeja\" in text:\n",
    "        print(text)"
   ]
  },
  {
   "cell_type": "markdown",
   "metadata": {},
   "source": [
    "Установим соответствия: \n",
    "* 1 предложение - перерыв на чай во время игры в крикет (пришлось гуглить эту статью, чтобы понять); (подходят значения 4,6,62)  \n",
    "* 2 предложение - значения 4, 6, 62\n",
    "* 3 предложение - \"прорвать осаду\"; могут фигурально подойти значения 16, 20, 23, 51 но на самом деле в Wordnet нет идеально подходящего значения \n",
    "* 4 предложение - перерыв на футбольном матче; подойдут значения 4,6,62\n",
    "* 5 предложение - \"большой поворот\" в Индии; значение 49 \n",
    "* 6 предложение - значения 4, 6, 62\n",
    "* 7 предложение - переносное значение 26; также может подойти 42\n",
    "* 8 предложение - значения 16, 20, 23, 51\n",
    "* 9 предложение - \"сломать зубочистку\"; значения 7, 20\n",
    "* 10 предложение - сложно понять, что это за значение; оно относится к крикету. Допустим, что это подача в крикете. Самые близкие значения Wordnet - 11, 14. Они относятся к спорту, но могут быть неправильными. \n",
    "\n",
    "\n",
    "Посмотрим, что у нас получилось с алгоритмом Леска, которым мы пользовались на паре, с окном 3: "
   ]
  },
  {
   "cell_type": "code",
   "execution_count": 25,
   "metadata": {
    "collapsed": false
   },
   "outputs": [
    {
     "name": "stdout",
     "output_type": "stream",
     "text": [
      "1 DEFINITION: 0\tsome abrupt occurrence that interrupts an ongoing activity\n",
      "1 SENTENCE:  Dog's pitch invasion forces early tea break\n",
      "2 DEFINITION: 43\thappen or take place\n",
      "2 SENTENCE:  Let's talk about what changes Trump might make regarding tax cuts, the Iran nuclear agreement, trade and what the consequences might be if Trump starts a trade war with China after we take a short break.\n",
      "3 DEFINITION: 0\tsome abrupt occurrence that interrupts an ongoing activity\n",
      "3 SENTENCE:  The insurgents had seized a couple of strategic areas in western Aleppo after launching an offensive on Oct. 28 in an attempt to break the siege imposed in July on rebel-held eastern Aleppo, which has also been targeted by waves of Syrian and Russian airstrikes.\n",
      "4 DEFINITION: 0\tsome abrupt occurrence that interrupts an ongoing activity\n",
      "4 SENTENCE:  But Iranian international Azmoun levelled for Rostov just before the break after turning Jerome Boateng to coolly slot past Ulreich.\n",
      "5 DEFINITION: 0\tsome abrupt occurrence that interrupts an ongoing activity\n",
      "5 SENTENCE:  They represent a grand break from the past.\n",
      "6 DEFINITION: 11\t(tennis) a score consisting of winning a game when your opponent was serving\n",
      "6 SENTENCE:  Woodland is making only his third start on the 2016-17 PGA Tour, having put down his golf clubs for a while to get married and have an extended break from the game.\n",
      "7 DEFINITION: 0\tsome abrupt occurrence that interrupts an ongoing activity\n",
      "7 SENTENCE:  Cohen, a native of Quebec, was already a celebrated poet and novelist when he moved to New York in 1966 at age 31 to break into the music business.\n",
      "8 DEFINITION: 0\tsome abrupt occurrence that interrupts an ongoing activity\n",
      "8 SENTENCE:  BEIRUT (AP) — Syrian government forces regained control Saturday of areas they lost over the past two weeks to a rebel offensive on the edge of the northern city of Aleppo, ending a major attempt by insurgents to break the siege on eastern parts of the city, an activist group and pro-government media said.\n",
      "9 DEFINITION: 19\truin completely\n",
      "9 SENTENCE:  This is usually sufficient to keep the sinker from moving, but at times you may want to also jam the other end of the toothpick into the back of the cone and break it off to keep the sinker completely immobile.\n",
      "10 DEFINITION: 0\tsome abrupt occurrence that interrupts an ongoing activity\n",
      "10 SENTENCE:  Home town boy Jadeja had earlier given India the first break at 47, successfully earning a shout for leg before wicket against England skipper Cook.\n"
     ]
    },
    {
     "data": {
      "text/plain": [
       "0"
      ]
     },
     "execution_count": 25,
     "metadata": {},
     "output_type": "execute_result"
    }
   ],
   "source": [
    "def get_meanings(corpus_list, corpus_str):\n",
    "    \n",
    "    for i, sent in enumerate(corpus_list):\n",
    "        contexts = get_words_in_context(sent)\n",
    "        for word, context in contexts:\n",
    "            if word == \"break\":\n",
    "                meaning_number = lesk(word, context)\n",
    "                print(i+1, \"DEFINITION: \" + str(meaning_number) + '\\t'+ wn.synsets(word)[meaning_number].definition())\n",
    "                print(i+1, \"SENTENCE: \", corpus_str[i])\n",
    "    return 0\n",
    "    \n",
    "corpus_10_tokenized = [tokenize(sent) for sent in corpus_10]\n",
    "get_meanings(corpus_10_tokenized, corpus_10)"
   ]
  },
  {
   "cell_type": "markdown",
   "metadata": {},
   "source": [
    "Пока ни одно значение не совпадает. \n",
    "\n",
    "# Эксперименты\n",
    "\n",
    "### 1. Попробуем взять другой размер окна\n",
    "\n",
    "С окном 2 еще хуже. "
   ]
  },
  {
   "cell_type": "code",
   "execution_count": 26,
   "metadata": {
    "collapsed": false
   },
   "outputs": [
    {
     "name": "stdout",
     "output_type": "stream",
     "text": [
      "1 DEFINITION: 0\tsome abrupt occurrence that interrupts an ongoing activity\n",
      "1 SENTENCE:  Dog's pitch invasion forces early tea break\n",
      "2 DEFINITION: 43\thappen or take place\n",
      "2 SENTENCE:  Let's talk about what changes Trump might make regarding tax cuts, the Iran nuclear agreement, trade and what the consequences might be if Trump starts a trade war with China after we take a short break.\n",
      "3 DEFINITION: 0\tsome abrupt occurrence that interrupts an ongoing activity\n",
      "3 SENTENCE:  The insurgents had seized a couple of strategic areas in western Aleppo after launching an offensive on Oct. 28 in an attempt to break the siege imposed in July on rebel-held eastern Aleppo, which has also been targeted by waves of Syrian and Russian airstrikes.\n",
      "4 DEFINITION: 0\tsome abrupt occurrence that interrupts an ongoing activity\n",
      "4 SENTENCE:  But Iranian international Azmoun levelled for Rostov just before the break after turning Jerome Boateng to coolly slot past Ulreich.\n",
      "5 DEFINITION: 0\tsome abrupt occurrence that interrupts an ongoing activity\n",
      "5 SENTENCE:  They represent a grand break from the past.\n",
      "6 DEFINITION: 11\t(tennis) a score consisting of winning a game when your opponent was serving\n",
      "6 SENTENCE:  Woodland is making only his third start on the 2016-17 PGA Tour, having put down his golf clubs for a while to get married and have an extended break from the game.\n",
      "7 DEFINITION: 0\tsome abrupt occurrence that interrupts an ongoing activity\n",
      "7 SENTENCE:  Cohen, a native of Quebec, was already a celebrated poet and novelist when he moved to New York in 1966 at age 31 to break into the music business.\n",
      "8 DEFINITION: 0\tsome abrupt occurrence that interrupts an ongoing activity\n",
      "8 SENTENCE:  BEIRUT (AP) — Syrian government forces regained control Saturday of areas they lost over the past two weeks to a rebel offensive on the edge of the northern city of Aleppo, ending a major attempt by insurgents to break the siege on eastern parts of the city, an activist group and pro-government media said.\n",
      "9 DEFINITION: 0\tsome abrupt occurrence that interrupts an ongoing activity\n",
      "9 SENTENCE:  This is usually sufficient to keep the sinker from moving, but at times you may want to also jam the other end of the toothpick into the back of the cone and break it off to keep the sinker completely immobile.\n",
      "10 DEFINITION: 0\tsome abrupt occurrence that interrupts an ongoing activity\n",
      "10 SENTENCE:  Home town boy Jadeja had earlier given India the first break at 47, successfully earning a shout for leg before wicket against England skipper Cook.\n"
     ]
    },
    {
     "data": {
      "text/plain": [
       "0"
      ]
     },
     "execution_count": 26,
     "metadata": {},
     "output_type": "execute_result"
    }
   ],
   "source": [
    "def get_words_in_context(words, window=2):\n",
    "    words2context = []\n",
    "    for i in range(len(words)):\n",
    "        left = words[max(0,i-window):i] \n",
    "        right = words[i+1:i+window+1]\n",
    "        target = words[i]\n",
    "        words2context.append((target, left+right)) \n",
    "    return words2context\n",
    "\n",
    "get_meanings(corpus_10_tokenized, corpus_10)"
   ]
  },
  {
   "cell_type": "markdown",
   "metadata": {},
   "source": [
    "С окнами другого размера тоже нет разницы. \n",
    "\n",
    "### 2. Попробуем со стоп-словами. \n",
    "8 предложение правильно соотнеслось с 20-м значением. \n",
    "#### Результат: 1/10"
   ]
  },
  {
   "cell_type": "code",
   "execution_count": 27,
   "metadata": {
    "collapsed": false
   },
   "outputs": [
    {
     "name": "stdout",
     "output_type": "stream",
     "text": [
      "1 DEFINITION: 0\tsome abrupt occurrence that interrupts an ongoing activity\n",
      "1 SENTENCE:  Dog's pitch invasion forces early tea break\n",
      "2 DEFINITION: 2\t(geology) a crack in the earth's crust resulting from the displacement of one side with respect to the other\n",
      "2 SENTENCE:  Let's talk about what changes Trump might make regarding tax cuts, the Iran nuclear agreement, trade and what the consequences might be if Trump starts a trade war with China after we take a short break.\n",
      "3 DEFINITION: 9\tan abrupt change in the tone or register of the voice (as at puberty or due to emotion)\n",
      "3 SENTENCE:  The insurgents had seized a couple of strategic areas in western Aleppo after launching an offensive on Oct. 28 in an attempt to break the siege imposed in July on rebel-held eastern Aleppo, which has also been targeted by waves of Syrian and Russian airstrikes.\n",
      "4 DEFINITION: 2\t(geology) a crack in the earth's crust resulting from the displacement of one side with respect to the other\n",
      "4 SENTENCE:  But Iranian international Azmoun levelled for Rostov just before the break after turning Jerome Boateng to coolly slot past Ulreich.\n",
      "5 DEFINITION: 2\t(geology) a crack in the earth's crust resulting from the displacement of one side with respect to the other\n",
      "5 SENTENCE:  They represent a grand break from the past.\n",
      "6 DEFINITION: 2\t(geology) a crack in the earth's crust resulting from the displacement of one side with respect to the other\n",
      "6 SENTENCE:  Woodland is making only his third start on the 2016-17 PGA Tour, having put down his golf clubs for a while to get married and have an extended break from the game.\n",
      "7 DEFINITION: 20\tdestroy the integrity of; usually by force; cause to separate into pieces or fragments\n",
      "7 SENTENCE:  Cohen, a native of Quebec, was already a celebrated poet and novelist when he moved to New York in 1966 at age 31 to break into the music business.\n",
      "8 DEFINITION: 20\tdestroy the integrity of; usually by force; cause to separate into pieces or fragments\n",
      "8 SENTENCE:  BEIRUT (AP) — Syrian government forces regained control Saturday of areas they lost over the past two weeks to a rebel offensive on the edge of the northern city of Aleppo, ending a major attempt by insurgents to break the siege on eastern parts of the city, an activist group and pro-government media said.\n",
      "9 DEFINITION: 2\t(geology) a crack in the earth's crust resulting from the displacement of one side with respect to the other\n",
      "9 SENTENCE:  This is usually sufficient to keep the sinker from moving, but at times you may want to also jam the other end of the toothpick into the back of the cone and break it off to keep the sinker completely immobile.\n",
      "10 DEFINITION: 9\tan abrupt change in the tone or register of the voice (as at puberty or due to emotion)\n",
      "10 SENTENCE:  Home town boy Jadeja had earlier given India the first break at 47, successfully earning a shout for leg before wicket against England skipper Cook.\n"
     ]
    },
    {
     "data": {
      "text/plain": [
       "0"
      ]
     },
     "execution_count": 27,
     "metadata": {},
     "output_type": "execute_result"
    }
   ],
   "source": [
    "def tokenize(text):\n",
    "    \n",
    "    words = [word.strip(punct) for word in text.lower().split() if word]\n",
    "    words = [word for word in words if word]\n",
    "\n",
    "    return words\n",
    "\n",
    "\n",
    "def get_words_in_context(words, window=3):\n",
    "    words2context = []\n",
    "    for i in range(len(words)):\n",
    "        left = words[max(0,i-window):i] \n",
    "        right = words[i+1:i+window+1]\n",
    "        target = words[i]\n",
    "        words2context.append((target, left+right)) \n",
    "    return words2context\n",
    "\n",
    "corpus_10_tokenized = [tokenize(sent) for sent in corpus_10]\n",
    "get_meanings(corpus_10_tokenized, corpus_10)"
   ]
  },
  {
   "cell_type": "markdown",
   "metadata": {},
   "source": [
    "### 3. Попробуем вместо описания значений в алгоритме Леска использовать только примеры из Wordnet (без стоп-слов). "
   ]
  },
  {
   "cell_type": "code",
   "execution_count": 28,
   "metadata": {
    "collapsed": false
   },
   "outputs": [],
   "source": [
    "def tokenize(text):\n",
    "    \n",
    "    words = [word.strip(punct) for word in text.lower().split() if word and word not in stops]\n",
    "    words = [word for word in words if word]\n",
    "\n",
    "    return words\n",
    "\n",
    "\n",
    "def lesk(word: type = str, sentence: type = list):\n",
    "    bestsense = 0\n",
    "    maxoverlap = 0\n",
    "    \n",
    "    for i, synset in enumerate(wn.synsets(word)):\n",
    "        examples = synset.examples()\n",
    "        examples_list = []\n",
    "        for j in examples:\n",
    "            j = tokenize(j)\n",
    "            for k in j:\n",
    "                examples_list.append(k)\n",
    "        examples_final = set(examples_list)\n",
    "        \n",
    "        sentence = set(sentence)\n",
    "        \n",
    "        overlap = len(examples_final & sentence)          \n",
    "        if overlap > maxoverlap:\n",
    "            maxoverlap = overlap\n",
    "            bestsense = i  \n",
    "    return bestsense"
   ]
  },
  {
   "cell_type": "code",
   "execution_count": 29,
   "metadata": {
    "collapsed": false
   },
   "outputs": [
    {
     "name": "stdout",
     "output_type": "stream",
     "text": [
      "1 DEFINITION: 0\tsome abrupt occurrence that interrupts an ongoing activity\n",
      "1 SENTENCE:  Dog's pitch invasion forces early tea break\n",
      "2 DEFINITION: 0\tsome abrupt occurrence that interrupts an ongoing activity\n",
      "2 SENTENCE:  Let's talk about what changes Trump might make regarding tax cuts, the Iran nuclear agreement, trade and what the consequences might be if Trump starts a trade war with China after we take a short break.\n",
      "3 DEFINITION: 0\tsome abrupt occurrence that interrupts an ongoing activity\n",
      "3 SENTENCE:  The insurgents had seized a couple of strategic areas in western Aleppo after launching an offensive on Oct. 28 in an attempt to break the siege imposed in July on rebel-held eastern Aleppo, which has also been targeted by waves of Syrian and Russian airstrikes.\n",
      "4 DEFINITION: 0\tsome abrupt occurrence that interrupts an ongoing activity\n",
      "4 SENTENCE:  But Iranian international Azmoun levelled for Rostov just before the break after turning Jerome Boateng to coolly slot past Ulreich.\n",
      "5 DEFINITION: 43\thappen or take place\n",
      "5 SENTENCE:  They represent a grand break from the past.\n",
      "6 DEFINITION: 0\tsome abrupt occurrence that interrupts an ongoing activity\n",
      "6 SENTENCE:  Woodland is making only his third start on the 2016-17 PGA Tour, having put down his golf clubs for a while to get married and have an extended break from the game.\n",
      "7 DEFINITION: 46\tdiscontinue an association or relation; go different ways\n",
      "7 SENTENCE:  Cohen, a native of Quebec, was already a celebrated poet and novelist when he moved to New York in 1966 at age 31 to break into the music business.\n",
      "8 DEFINITION: 0\tsome abrupt occurrence that interrupts an ongoing activity\n",
      "8 SENTENCE:  BEIRUT (AP) — Syrian government forces regained control Saturday of areas they lost over the past two weeks to a rebel offensive on the edge of the northern city of Aleppo, ending a major attempt by insurgents to break the siege on eastern parts of the city, an activist group and pro-government media said.\n",
      "9 DEFINITION: 57\tgo to pieces\n",
      "9 SENTENCE:  This is usually sufficient to keep the sinker from moving, but at times you may want to also jam the other end of the toothpick into the back of the cone and break it off to keep the sinker completely immobile.\n",
      "10 DEFINITION: 42\tcome forth or begin from a state of latency\n",
      "10 SENTENCE:  Home town boy Jadeja had earlier given India the first break at 47, successfully earning a shout for leg before wicket against England skipper Cook.\n"
     ]
    },
    {
     "data": {
      "text/plain": [
       "0"
      ]
     },
     "execution_count": 29,
     "metadata": {},
     "output_type": "execute_result"
    }
   ],
   "source": [
    "corpus_10_tokenized = [tokenize(sent) for sent in corpus_10]\n",
    "get_meanings(corpus_10_tokenized, corpus_10)"
   ]
  },
  {
   "cell_type": "markdown",
   "metadata": {},
   "source": [
    "##### Пока 0/10\n",
    "\n",
    "### 4. Попробуем совместить в алгоритме Леска описания и примеры (со стоп-словами)"
   ]
  },
  {
   "cell_type": "code",
   "execution_count": 30,
   "metadata": {
    "collapsed": true
   },
   "outputs": [],
   "source": [
    "def tokenize(text):\n",
    "    \n",
    "    words = [word.strip(punct) for word in text.lower().split() if word]\n",
    "    words = [word for word in words if word]\n",
    "\n",
    "    return words\n",
    "\n",
    "\n",
    "def lesk(word: type = str, sentence: type = list):\n",
    "    bestsense = 0\n",
    "    maxoverlap = 0\n",
    "    \n",
    "    for i, synset in enumerate(wn.synsets(word)):\n",
    "        \n",
    "        examples = synset.examples()\n",
    "        examples_list = []\n",
    "        for j in examples:\n",
    "            j = tokenize(j)\n",
    "            for k in j:\n",
    "                examples_list.append(k)\n",
    "        \n",
    "        definition = tokenize(synset.definition())\n",
    "    \n",
    "        ex_plus_def = set(examples_list + definition)\n",
    "\n",
    "        sentence = set(sentence)\n",
    "        \n",
    "        overlap = len(ex_plus_def & sentence)          \n",
    "        if overlap > maxoverlap:\n",
    "            maxoverlap = overlap\n",
    "            bestsense = i \n",
    "            \n",
    "    return bestsense"
   ]
  },
  {
   "cell_type": "code",
   "execution_count": 31,
   "metadata": {
    "collapsed": false
   },
   "outputs": [
    {
     "name": "stdout",
     "output_type": "stream",
     "text": [
      "1 DEFINITION: 0\tsome abrupt occurrence that interrupts an ongoing activity\n",
      "1 SENTENCE:  Dog's pitch invasion forces early tea break\n",
      "2 DEFINITION: 0\tsome abrupt occurrence that interrupts an ongoing activity\n",
      "2 SENTENCE:  Let's talk about what changes Trump might make regarding tax cuts, the Iran nuclear agreement, trade and what the consequences might be if Trump starts a trade war with China after we take a short break.\n",
      "3 DEFINITION: 9\tan abrupt change in the tone or register of the voice (as at puberty or due to emotion)\n",
      "3 SENTENCE:  The insurgents had seized a couple of strategic areas in western Aleppo after launching an offensive on Oct. 28 in an attempt to break the siege imposed in July on rebel-held eastern Aleppo, which has also been targeted by waves of Syrian and Russian airstrikes.\n",
      "4 DEFINITION: 23\tscatter or part\n",
      "4 SENTENCE:  But Iranian international Azmoun levelled for Rostov just before the break after turning Jerome Boateng to coolly slot past Ulreich.\n",
      "5 DEFINITION: 2\t(geology) a crack in the earth's crust resulting from the displacement of one side with respect to the other\n",
      "5 SENTENCE:  They represent a grand break from the past.\n",
      "6 DEFINITION: 15\tan escape from jail\n",
      "6 SENTENCE:  Woodland is making only his third start on the 2016-17 PGA Tour, having put down his golf clubs for a while to get married and have an extended break from the game.\n",
      "7 DEFINITION: 20\tdestroy the integrity of; usually by force; cause to separate into pieces or fragments\n",
      "7 SENTENCE:  Cohen, a native of Quebec, was already a celebrated poet and novelist when he moved to New York in 1966 at age 31 to break into the music business.\n",
      "8 DEFINITION: 7\tbreaking of hard tissue such as bone\n",
      "8 SENTENCE:  BEIRUT (AP) — Syrian government forces regained control Saturday of areas they lost over the past two weeks to a rebel offensive on the edge of the northern city of Aleppo, ending a major attempt by insurgents to break the siege on eastern parts of the city, an activist group and pro-government media said.\n",
      "9 DEFINITION: 2\t(geology) a crack in the earth's crust resulting from the displacement of one side with respect to the other\n",
      "9 SENTENCE:  This is usually sufficient to keep the sinker from moving, but at times you may want to also jam the other end of the toothpick into the back of the cone and break it off to keep the sinker completely immobile.\n",
      "10 DEFINITION: 9\tan abrupt change in the tone or register of the voice (as at puberty or due to emotion)\n",
      "10 SENTENCE:  Home town boy Jadeja had earlier given India the first break at 47, successfully earning a shout for leg before wicket against England skipper Cook.\n"
     ]
    },
    {
     "data": {
      "text/plain": [
       "0"
      ]
     },
     "execution_count": 31,
     "metadata": {},
     "output_type": "execute_result"
    }
   ],
   "source": [
    "corpus_10_tokenized = [tokenize(sent) for sent in corpus_10]\n",
    "get_meanings(corpus_10_tokenized, corpus_10)"
   ]
  },
  {
   "cell_type": "markdown",
   "metadata": {},
   "source": [
    "Лучше не стало. "
   ]
  },
  {
   "cell_type": "markdown",
   "metadata": {},
   "source": [
    "### 4. Попробуем выкинуть стоп-слова \n",
    "- снова ничего"
   ]
  },
  {
   "cell_type": "code",
   "execution_count": 32,
   "metadata": {
    "collapsed": false
   },
   "outputs": [
    {
     "name": "stdout",
     "output_type": "stream",
     "text": [
      "1 DEFINITION: 0\tsome abrupt occurrence that interrupts an ongoing activity\n",
      "1 SENTENCE:  Dog's pitch invasion forces early tea break\n",
      "2 DEFINITION: 43\thappen or take place\n",
      "2 SENTENCE:  Let's talk about what changes Trump might make regarding tax cuts, the Iran nuclear agreement, trade and what the consequences might be if Trump starts a trade war with China after we take a short break.\n",
      "3 DEFINITION: 0\tsome abrupt occurrence that interrupts an ongoing activity\n",
      "3 SENTENCE:  The insurgents had seized a couple of strategic areas in western Aleppo after launching an offensive on Oct. 28 in an attempt to break the siege imposed in July on rebel-held eastern Aleppo, which has also been targeted by waves of Syrian and Russian airstrikes.\n",
      "4 DEFINITION: 0\tsome abrupt occurrence that interrupts an ongoing activity\n",
      "4 SENTENCE:  But Iranian international Azmoun levelled for Rostov just before the break after turning Jerome Boateng to coolly slot past Ulreich.\n",
      "5 DEFINITION: 43\thappen or take place\n",
      "5 SENTENCE:  They represent a grand break from the past.\n",
      "6 DEFINITION: 11\t(tennis) a score consisting of winning a game when your opponent was serving\n",
      "6 SENTENCE:  Woodland is making only his third start on the 2016-17 PGA Tour, having put down his golf clubs for a while to get married and have an extended break from the game.\n",
      "7 DEFINITION: 46\tdiscontinue an association or relation; go different ways\n",
      "7 SENTENCE:  Cohen, a native of Quebec, was already a celebrated poet and novelist when he moved to New York in 1966 at age 31 to break into the music business.\n",
      "8 DEFINITION: 0\tsome abrupt occurrence that interrupts an ongoing activity\n",
      "8 SENTENCE:  BEIRUT (AP) — Syrian government forces regained control Saturday of areas they lost over the past two weeks to a rebel offensive on the edge of the northern city of Aleppo, ending a major attempt by insurgents to break the siege on eastern parts of the city, an activist group and pro-government media said.\n",
      "9 DEFINITION: 19\truin completely\n",
      "9 SENTENCE:  This is usually sufficient to keep the sinker from moving, but at times you may want to also jam the other end of the toothpick into the back of the cone and break it off to keep the sinker completely immobile.\n",
      "10 DEFINITION: 42\tcome forth or begin from a state of latency\n",
      "10 SENTENCE:  Home town boy Jadeja had earlier given India the first break at 47, successfully earning a shout for leg before wicket against England skipper Cook.\n"
     ]
    },
    {
     "data": {
      "text/plain": [
       "0"
      ]
     },
     "execution_count": 32,
     "metadata": {},
     "output_type": "execute_result"
    }
   ],
   "source": [
    "def tokenize(text):\n",
    "    \n",
    "    words = [word.strip(punct) for word in text.lower().split() if word and word not in stops]\n",
    "    words = [word for word in words if word]\n",
    "\n",
    "    return words\n",
    "\n",
    "corpus_10_tokenized = [tokenize(sent) for sent in corpus_10]\n",
    "get_meanings(corpus_10_tokenized, corpus_10)"
   ]
  },
  {
   "cell_type": "markdown",
   "metadata": {},
   "source": [
    "### 5. Попробуем стеммировать и сами предложения, и определения с примерами. Со стоп-словами"
   ]
  },
  {
   "cell_type": "code",
   "execution_count": 33,
   "metadata": {
    "collapsed": false
   },
   "outputs": [],
   "source": [
    "from nltk.stem.snowball import SnowballStemmer\n",
    "stemmer = SnowballStemmer(\"english\")\n",
    "\n",
    "\n",
    "def tokenize(text):\n",
    "    words = [word.strip(punct) for word in text.lower().split() if word]\n",
    "    words = [word for word in words if word]\n",
    "    return words\n",
    "\n",
    "\n",
    "def stem_(words):\n",
    "    words = [stemmer.stem(i) for i in words]\n",
    "    return words\n",
    "\n",
    "\n",
    "def lesk(word: type = str, sentence: type = list):\n",
    "    bestsense = 0\n",
    "    maxoverlap = 0\n",
    "    \n",
    "    sentence = set(stem_(sentence))\n",
    "    \n",
    "    for i, synset in enumerate(wn.synsets(word)):   \n",
    "        examples = synset.examples()\n",
    "        examples_list = []\n",
    "        for j in examples:\n",
    "            j = stem_(tokenize(j))\n",
    "            for word in j:\n",
    "                examples_list.append(word)\n",
    "        \n",
    "        definition = stem_(tokenize(synset.definition()))\n",
    "        ex_plus_def = set(examples_list + definition)\n",
    "        overlap = len(ex_plus_def & sentence)          \n",
    "        if overlap > maxoverlap:\n",
    "            maxoverlap = overlap\n",
    "            bestsense = i \n",
    "            \n",
    "    return bestsense"
   ]
  },
  {
   "cell_type": "code",
   "execution_count": 34,
   "metadata": {
    "collapsed": false
   },
   "outputs": [
    {
     "name": "stdout",
     "output_type": "stream",
     "text": [
      "1 DEFINITION: 20\tdestroy the integrity of; usually by force; cause to separate into pieces or fragments\n",
      "1 SENTENCE:  Dog's pitch invasion forces early tea break\n",
      "2 DEFINITION: 43\thappen or take place\n",
      "2 SENTENCE:  Let's talk about what changes Trump might make regarding tax cuts, the Iran nuclear agreement, trade and what the consequences might be if Trump starts a trade war with China after we take a short break.\n",
      "3 DEFINITION: 0\tsome abrupt occurrence that interrupts an ongoing activity\n",
      "3 SENTENCE:  The insurgents had seized a couple of strategic areas in western Aleppo after launching an offensive on Oct. 28 in an attempt to break the siege imposed in July on rebel-held eastern Aleppo, which has also been targeted by waves of Syrian and Russian airstrikes.\n",
      "4 DEFINITION: 0\tsome abrupt occurrence that interrupts an ongoing activity\n",
      "4 SENTENCE:  But Iranian international Azmoun levelled for Rostov just before the break after turning Jerome Boateng to coolly slot past Ulreich.\n",
      "5 DEFINITION: 43\thappen or take place\n",
      "5 SENTENCE:  They represent a grand break from the past.\n",
      "6 DEFINITION: 11\t(tennis) a score consisting of winning a game when your opponent was serving\n",
      "6 SENTENCE:  Woodland is making only his third start on the 2016-17 PGA Tour, having put down his golf clubs for a while to get married and have an extended break from the game.\n",
      "7 DEFINITION: 46\tdiscontinue an association or relation; go different ways\n",
      "7 SENTENCE:  Cohen, a native of Quebec, was already a celebrated poet and novelist when he moved to New York in 1966 at age 31 to break into the music business.\n",
      "8 DEFINITION: 23\tscatter or part\n",
      "8 SENTENCE:  BEIRUT (AP) — Syrian government forces regained control Saturday of areas they lost over the past two weeks to a rebel offensive on the edge of the northern city of Aleppo, ending a major attempt by insurgents to break the siege on eastern parts of the city, an activist group and pro-government media said.\n",
      "9 DEFINITION: 19\truin completely\n",
      "9 SENTENCE:  This is usually sufficient to keep the sinker from moving, but at times you may want to also jam the other end of the toothpick into the back of the cone and break it off to keep the sinker completely immobile.\n",
      "10 DEFINITION: 42\tcome forth or begin from a state of latency\n",
      "10 SENTENCE:  Home town boy Jadeja had earlier given India the first break at 47, successfully earning a shout for leg before wicket against England skipper Cook.\n"
     ]
    },
    {
     "data": {
      "text/plain": [
       "0"
      ]
     },
     "execution_count": 34,
     "metadata": {},
     "output_type": "execute_result"
    }
   ],
   "source": [
    "get_meanings(corpus_10_tokenized, corpus_10)"
   ]
  },
  {
   "cell_type": "markdown",
   "metadata": {},
   "source": [
    "Ура! Восьмое предложение имеет 23-е значение глагола \"break\", которое мы допустили как правильное. Но значение в 9-м предложении не распозналось. \n",
    "#### Снова результат - 1/10, но уже с другим предложением. "
   ]
  },
  {
   "cell_type": "markdown",
   "metadata": {},
   "source": [
    "### 6. Попробуем сделать то же самое, выкинув стоп-слова\n",
    "- ничего не поменялось"
   ]
  },
  {
   "cell_type": "code",
   "execution_count": 35,
   "metadata": {
    "collapsed": false
   },
   "outputs": [],
   "source": [
    "def tokenize(text):\n",
    "    words = [word.strip(punct) for word in text.lower().split() if word and word not in stops]\n",
    "    words = [word for word in words if word]\n",
    "    return words"
   ]
  },
  {
   "cell_type": "code",
   "execution_count": 36,
   "metadata": {
    "collapsed": false
   },
   "outputs": [
    {
     "name": "stdout",
     "output_type": "stream",
     "text": [
      "1 DEFINITION: 20\tdestroy the integrity of; usually by force; cause to separate into pieces or fragments\n",
      "1 SENTENCE:  Dog's pitch invasion forces early tea break\n",
      "2 DEFINITION: 43\thappen or take place\n",
      "2 SENTENCE:  Let's talk about what changes Trump might make regarding tax cuts, the Iran nuclear agreement, trade and what the consequences might be if Trump starts a trade war with China after we take a short break.\n",
      "3 DEFINITION: 0\tsome abrupt occurrence that interrupts an ongoing activity\n",
      "3 SENTENCE:  The insurgents had seized a couple of strategic areas in western Aleppo after launching an offensive on Oct. 28 in an attempt to break the siege imposed in July on rebel-held eastern Aleppo, which has also been targeted by waves of Syrian and Russian airstrikes.\n",
      "4 DEFINITION: 0\tsome abrupt occurrence that interrupts an ongoing activity\n",
      "4 SENTENCE:  But Iranian international Azmoun levelled for Rostov just before the break after turning Jerome Boateng to coolly slot past Ulreich.\n",
      "5 DEFINITION: 43\thappen or take place\n",
      "5 SENTENCE:  They represent a grand break from the past.\n",
      "6 DEFINITION: 11\t(tennis) a score consisting of winning a game when your opponent was serving\n",
      "6 SENTENCE:  Woodland is making only his third start on the 2016-17 PGA Tour, having put down his golf clubs for a while to get married and have an extended break from the game.\n",
      "7 DEFINITION: 46\tdiscontinue an association or relation; go different ways\n",
      "7 SENTENCE:  Cohen, a native of Quebec, was already a celebrated poet and novelist when he moved to New York in 1966 at age 31 to break into the music business.\n",
      "8 DEFINITION: 23\tscatter or part\n",
      "8 SENTENCE:  BEIRUT (AP) — Syrian government forces regained control Saturday of areas they lost over the past two weeks to a rebel offensive on the edge of the northern city of Aleppo, ending a major attempt by insurgents to break the siege on eastern parts of the city, an activist group and pro-government media said.\n",
      "9 DEFINITION: 19\truin completely\n",
      "9 SENTENCE:  This is usually sufficient to keep the sinker from moving, but at times you may want to also jam the other end of the toothpick into the back of the cone and break it off to keep the sinker completely immobile.\n",
      "10 DEFINITION: 42\tcome forth or begin from a state of latency\n",
      "10 SENTENCE:  Home town boy Jadeja had earlier given India the first break at 47, successfully earning a shout for leg before wicket against England skipper Cook.\n"
     ]
    },
    {
     "data": {
      "text/plain": [
       "0"
      ]
     },
     "execution_count": 36,
     "metadata": {},
     "output_type": "execute_result"
    }
   ],
   "source": [
    "get_meanings(corpus_10_tokenized, corpus_10)"
   ]
  },
  {
   "cell_type": "markdown",
   "metadata": {},
   "source": [
    "### 7. Тегируем по частям речи слово \"break\""
   ]
  },
  {
   "cell_type": "code",
   "execution_count": 37,
   "metadata": {
    "collapsed": false
   },
   "outputs": [],
   "source": [
    "import nltk\n",
    "\n",
    "def get_tags_for_break(sent: type = str):\n",
    "    \n",
    "    sent_postagged = []\n",
    "    \n",
    "    if type(sent) == str: \n",
    "        sent = word_tokenize(sent)\n",
    "        for i in nltk.pos_tag(sent):\n",
    "            word, tag = i\n",
    "            if word in punct:\n",
    "                continue\n",
    "            if word.lower() == \"break\":\n",
    "                sent_postagged.append(word.lower() + '_' + tag)\n",
    "            else:\n",
    "                sent_postagged.append(word.lower())\n",
    "                \n",
    "    return sent_postagged"
   ]
  },
  {
   "cell_type": "code",
   "execution_count": 38,
   "metadata": {
    "collapsed": false,
    "scrolled": true
   },
   "outputs": [],
   "source": [
    "corpus_10_tagged = [get_tags_for_break(sent) for sent in corpus_10]"
   ]
  },
  {
   "cell_type": "code",
   "execution_count": 39,
   "metadata": {
    "collapsed": false
   },
   "outputs": [
    {
     "data": {
      "text/plain": [
       "[['dog', \"'s\", 'pitch', 'invasion', 'forces', 'early', 'tea', 'break_NN'],\n",
       " ['let',\n",
       "  \"'s\",\n",
       "  'talk',\n",
       "  'about',\n",
       "  'what',\n",
       "  'changes',\n",
       "  'trump',\n",
       "  'might',\n",
       "  'make',\n",
       "  'regarding',\n",
       "  'tax',\n",
       "  'cuts',\n",
       "  'the',\n",
       "  'iran',\n",
       "  'nuclear',\n",
       "  'agreement',\n",
       "  'trade',\n",
       "  'and',\n",
       "  'what',\n",
       "  'the',\n",
       "  'consequences',\n",
       "  'might',\n",
       "  'be',\n",
       "  'if',\n",
       "  'trump',\n",
       "  'starts',\n",
       "  'a',\n",
       "  'trade',\n",
       "  'war',\n",
       "  'with',\n",
       "  'china',\n",
       "  'after',\n",
       "  'we',\n",
       "  'take',\n",
       "  'a',\n",
       "  'short',\n",
       "  'break_NN'],\n",
       " ['the',\n",
       "  'insurgents',\n",
       "  'had',\n",
       "  'seized',\n",
       "  'a',\n",
       "  'couple',\n",
       "  'of',\n",
       "  'strategic',\n",
       "  'areas',\n",
       "  'in',\n",
       "  'western',\n",
       "  'aleppo',\n",
       "  'after',\n",
       "  'launching',\n",
       "  'an',\n",
       "  'offensive',\n",
       "  'on',\n",
       "  'oct.',\n",
       "  '28',\n",
       "  'in',\n",
       "  'an',\n",
       "  'attempt',\n",
       "  'to',\n",
       "  'break_VB',\n",
       "  'the',\n",
       "  'siege',\n",
       "  'imposed',\n",
       "  'in',\n",
       "  'july',\n",
       "  'on',\n",
       "  'rebel-held',\n",
       "  'eastern',\n",
       "  'aleppo',\n",
       "  'which',\n",
       "  'has',\n",
       "  'also',\n",
       "  'been',\n",
       "  'targeted',\n",
       "  'by',\n",
       "  'waves',\n",
       "  'of',\n",
       "  'syrian',\n",
       "  'and',\n",
       "  'russian',\n",
       "  'airstrikes'],\n",
       " ['but',\n",
       "  'iranian',\n",
       "  'international',\n",
       "  'azmoun',\n",
       "  'levelled',\n",
       "  'for',\n",
       "  'rostov',\n",
       "  'just',\n",
       "  'before',\n",
       "  'the',\n",
       "  'break_NN',\n",
       "  'after',\n",
       "  'turning',\n",
       "  'jerome',\n",
       "  'boateng',\n",
       "  'to',\n",
       "  'coolly',\n",
       "  'slot',\n",
       "  'past',\n",
       "  'ulreich'],\n",
       " ['they', 'represent', 'a', 'grand', 'break_NN', 'from', 'the', 'past'],\n",
       " ['woodland',\n",
       "  'is',\n",
       "  'making',\n",
       "  'only',\n",
       "  'his',\n",
       "  'third',\n",
       "  'start',\n",
       "  'on',\n",
       "  'the',\n",
       "  '2016-17',\n",
       "  'pga',\n",
       "  'tour',\n",
       "  'having',\n",
       "  'put',\n",
       "  'down',\n",
       "  'his',\n",
       "  'golf',\n",
       "  'clubs',\n",
       "  'for',\n",
       "  'a',\n",
       "  'while',\n",
       "  'to',\n",
       "  'get',\n",
       "  'married',\n",
       "  'and',\n",
       "  'have',\n",
       "  'an',\n",
       "  'extended',\n",
       "  'break_NN',\n",
       "  'from',\n",
       "  'the',\n",
       "  'game'],\n",
       " ['cohen',\n",
       "  'a',\n",
       "  'native',\n",
       "  'of',\n",
       "  'quebec',\n",
       "  'was',\n",
       "  'already',\n",
       "  'a',\n",
       "  'celebrated',\n",
       "  'poet',\n",
       "  'and',\n",
       "  'novelist',\n",
       "  'when',\n",
       "  'he',\n",
       "  'moved',\n",
       "  'to',\n",
       "  'new',\n",
       "  'york',\n",
       "  'in',\n",
       "  '1966',\n",
       "  'at',\n",
       "  'age',\n",
       "  '31',\n",
       "  'to',\n",
       "  'break_VB',\n",
       "  'into',\n",
       "  'the',\n",
       "  'music',\n",
       "  'business'],\n",
       " ['beirut',\n",
       "  'ap',\n",
       "  'syrian',\n",
       "  'government',\n",
       "  'forces',\n",
       "  'regained',\n",
       "  'control',\n",
       "  'saturday',\n",
       "  'of',\n",
       "  'areas',\n",
       "  'they',\n",
       "  'lost',\n",
       "  'over',\n",
       "  'the',\n",
       "  'past',\n",
       "  'two',\n",
       "  'weeks',\n",
       "  'to',\n",
       "  'a',\n",
       "  'rebel',\n",
       "  'offensive',\n",
       "  'on',\n",
       "  'the',\n",
       "  'edge',\n",
       "  'of',\n",
       "  'the',\n",
       "  'northern',\n",
       "  'city',\n",
       "  'of',\n",
       "  'aleppo',\n",
       "  'ending',\n",
       "  'a',\n",
       "  'major',\n",
       "  'attempt',\n",
       "  'by',\n",
       "  'insurgents',\n",
       "  'to',\n",
       "  'break_VB',\n",
       "  'the',\n",
       "  'siege',\n",
       "  'on',\n",
       "  'eastern',\n",
       "  'parts',\n",
       "  'of',\n",
       "  'the',\n",
       "  'city',\n",
       "  'an',\n",
       "  'activist',\n",
       "  'group',\n",
       "  'and',\n",
       "  'pro-government',\n",
       "  'media',\n",
       "  'said'],\n",
       " ['this',\n",
       "  'is',\n",
       "  'usually',\n",
       "  'sufficient',\n",
       "  'to',\n",
       "  'keep',\n",
       "  'the',\n",
       "  'sinker',\n",
       "  'from',\n",
       "  'moving',\n",
       "  'but',\n",
       "  'at',\n",
       "  'times',\n",
       "  'you',\n",
       "  'may',\n",
       "  'want',\n",
       "  'to',\n",
       "  'also',\n",
       "  'jam',\n",
       "  'the',\n",
       "  'other',\n",
       "  'end',\n",
       "  'of',\n",
       "  'the',\n",
       "  'toothpick',\n",
       "  'into',\n",
       "  'the',\n",
       "  'back',\n",
       "  'of',\n",
       "  'the',\n",
       "  'cone',\n",
       "  'and',\n",
       "  'break_VB',\n",
       "  'it',\n",
       "  'off',\n",
       "  'to',\n",
       "  'keep',\n",
       "  'the',\n",
       "  'sinker',\n",
       "  'completely',\n",
       "  'immobile'],\n",
       " ['home',\n",
       "  'town',\n",
       "  'boy',\n",
       "  'jadeja',\n",
       "  'had',\n",
       "  'earlier',\n",
       "  'given',\n",
       "  'india',\n",
       "  'the',\n",
       "  'first',\n",
       "  'break_NN',\n",
       "  'at',\n",
       "  '47',\n",
       "  'successfully',\n",
       "  'earning',\n",
       "  'a',\n",
       "  'shout',\n",
       "  'for',\n",
       "  'leg',\n",
       "  'before',\n",
       "  'wicket',\n",
       "  'against',\n",
       "  'england',\n",
       "  'skipper',\n",
       "  'cook']]"
      ]
     },
     "execution_count": 39,
     "metadata": {},
     "output_type": "execute_result"
    }
   ],
   "source": [
    "corpus_10_tagged"
   ]
  },
  {
   "cell_type": "code",
   "execution_count": 40,
   "metadata": {
    "collapsed": true
   },
   "outputs": [],
   "source": [
    "def get_break_meaning_from_sent(corpus):\n",
    "    breaks = []\n",
    "    for sent in corpus:\n",
    "        sent = word_tokenize(sent)\n",
    "        for i in nltk.pos_tag(sent):\n",
    "            word, tag = i\n",
    "            if word.lower() == \"break\":\n",
    "                breaks.append(word.lower() + '_' + tag)\n",
    "    return breaks"
   ]
  },
  {
   "cell_type": "code",
   "execution_count": 41,
   "metadata": {
    "collapsed": false
   },
   "outputs": [
    {
     "data": {
      "text/plain": [
       "['break_NN',\n",
       " 'break_NN',\n",
       " 'break_VB',\n",
       " 'break_NN',\n",
       " 'break_NN',\n",
       " 'break_NN',\n",
       " 'break_VB',\n",
       " 'break_VB',\n",
       " 'break_VB',\n",
       " 'break_NN']"
      ]
     },
     "execution_count": 41,
     "metadata": {},
     "output_type": "execute_result"
    }
   ],
   "source": [
    "breaks = get_break_meaning_from_sent(corpus_10)\n",
    "breaks"
   ]
  },
  {
   "cell_type": "code",
   "execution_count": 42,
   "metadata": {
    "collapsed": false
   },
   "outputs": [],
   "source": [
    "def lesk(word: type = str, context: type = list):\n",
    "    bestsense = 0\n",
    "    maxoverlap = 0\n",
    "    \n",
    "    context = set(context)\n",
    "    \n",
    "    for i, synset in enumerate(wn.synsets(word)):   \n",
    "        examples = synset.examples()\n",
    "        examples_list = []\n",
    "        for j in examples:\n",
    "            j = get_tags_for_break(j)\n",
    "            for word in j:\n",
    "                examples_list.append(word)\n",
    "                \n",
    "        definition = get_tags_for_break(synset.definition())\n",
    "        \n",
    "        ex_plus_def = set(examples_list + definition)\n",
    "        overlap = len(ex_plus_def & context)          \n",
    "        if overlap > maxoverlap:\n",
    "            maxoverlap = overlap\n",
    "            bestsense = i \n",
    "            \n",
    "    return bestsense"
   ]
  },
  {
   "cell_type": "code",
   "execution_count": 43,
   "metadata": {
    "collapsed": false
   },
   "outputs": [],
   "source": [
    "def get_meanings(corpus_list, corpus_str):\n",
    "    \n",
    "    for i, sent in enumerate(corpus_list):\n",
    "        contexts = get_words_in_context(sent)\n",
    "        for word, context in contexts:\n",
    "            if word == \"break\":\n",
    "                context += breaks[i]\n",
    "                meaning_number = lesk(word, context)\n",
    "                print(i+1, \"DEFINITION:\" + str(meaning_number) + '\\t'+ wn.synsets(word)[meaning_number].definition())\n",
    "                print(i+1, \"SENTENCE: \", corpus_str[i])\n",
    "    return 0"
   ]
  },
  {
   "cell_type": "code",
   "execution_count": 44,
   "metadata": {
    "collapsed": false
   },
   "outputs": [
    {
     "name": "stdout",
     "output_type": "stream",
     "text": [
      "1 DEFINITION:0\tsome abrupt occurrence that interrupts an ongoing activity\n",
      "1 SENTENCE:  Dog's pitch invasion forces early tea break\n",
      "2 DEFINITION:0\tsome abrupt occurrence that interrupts an ongoing activity\n",
      "2 SENTENCE:  Let's talk about what changes Trump might make regarding tax cuts, the Iran nuclear agreement, trade and what the consequences might be if Trump starts a trade war with China after we take a short break.\n",
      "3 DEFINITION:0\tsome abrupt occurrence that interrupts an ongoing activity\n",
      "3 SENTENCE:  The insurgents had seized a couple of strategic areas in western Aleppo after launching an offensive on Oct. 28 in an attempt to break the siege imposed in July on rebel-held eastern Aleppo, which has also been targeted by waves of Syrian and Russian airstrikes.\n",
      "4 DEFINITION:0\tsome abrupt occurrence that interrupts an ongoing activity\n",
      "4 SENTENCE:  But Iranian international Azmoun levelled for Rostov just before the break after turning Jerome Boateng to coolly slot past Ulreich.\n",
      "5 DEFINITION:0\tsome abrupt occurrence that interrupts an ongoing activity\n",
      "5 SENTENCE:  They represent a grand break from the past.\n",
      "6 DEFINITION:11\t(tennis) a score consisting of winning a game when your opponent was serving\n",
      "6 SENTENCE:  Woodland is making only his third start on the 2016-17 PGA Tour, having put down his golf clubs for a while to get married and have an extended break from the game.\n",
      "7 DEFINITION:46\tdiscontinue an association or relation; go different ways\n",
      "7 SENTENCE:  Cohen, a native of Quebec, was already a celebrated poet and novelist when he moved to New York in 1966 at age 31 to break into the music business.\n",
      "8 DEFINITION:0\tsome abrupt occurrence that interrupts an ongoing activity\n",
      "8 SENTENCE:  BEIRUT (AP) — Syrian government forces regained control Saturday of areas they lost over the past two weeks to a rebel offensive on the edge of the northern city of Aleppo, ending a major attempt by insurgents to break the siege on eastern parts of the city, an activist group and pro-government media said.\n",
      "9 DEFINITION:0\tsome abrupt occurrence that interrupts an ongoing activity\n",
      "9 SENTENCE:  This is usually sufficient to keep the sinker from moving, but at times you may want to also jam the other end of the toothpick into the back of the cone and break it off to keep the sinker completely immobile.\n",
      "10 DEFINITION:42\tcome forth or begin from a state of latency\n",
      "10 SENTENCE:  Home town boy Jadeja had earlier given India the first break at 47, successfully earning a shout for leg before wicket against England skipper Cook.\n"
     ]
    },
    {
     "data": {
      "text/plain": [
       "0"
      ]
     },
     "execution_count": 44,
     "metadata": {},
     "output_type": "execute_result"
    }
   ],
   "source": [
    "get_meanings(corpus_10_tokenized, corpus_10)"
   ]
  },
  {
   "cell_type": "markdown",
   "metadata": {},
   "source": [
    "### Лучше не стало"
   ]
  },
  {
   "cell_type": "markdown",
   "metadata": {},
   "source": [
    "### 8. Попробуем комбо: учитывать вместо контекста просто все слова в предложении + всё лемматизируем + сохраним тегирование слова break + уберем стоп-слова"
   ]
  },
  {
   "cell_type": "code",
   "execution_count": 45,
   "metadata": {
    "collapsed": false
   },
   "outputs": [],
   "source": [
    "def get_tags_for_break(sent):\n",
    "    sent_tagged = [] \n",
    "    sent = word_tokenize(sent)\n",
    "    for i in nltk.pos_tag(sent):\n",
    "        word, tag = i\n",
    "        if word in punct:\n",
    "            continue\n",
    "        if word.lower() == \"break\":\n",
    "            sent_tagged.append(word.lower() + '_' + tag)\n",
    "        else:\n",
    "            sent_tagged.append(stemmer.stem(word.lower()))\n",
    "    return sent_tagged"
   ]
  },
  {
   "cell_type": "code",
   "execution_count": 46,
   "metadata": {
    "collapsed": true
   },
   "outputs": [],
   "source": [
    "def lesk(word: type = str, context: type = list):\n",
    "    bestsense = 0\n",
    "    maxoverlap = 0\n",
    "    \n",
    "    context = set([i for i in context if i not in stops])\n",
    "    \n",
    "    for i, synset in enumerate(wn.synsets(word)):  \n",
    "        examples = synset.examples()\n",
    "        examples_list = []\n",
    "        for j in examples:\n",
    "            j = get_tags_for_break(j)\n",
    "            for word in j:\n",
    "                examples_list.append(word)\n",
    "                \n",
    "        definition = get_tags_for_break(synset.definition())\n",
    "        \n",
    "        ex_plus_def = examples_list + definition\n",
    "        ex_plus_def = set([w for w in ex_plus_def if w not in stops])\n",
    "        overlap = len(ex_plus_def & context)          \n",
    "        if overlap > maxoverlap:\n",
    "            maxoverlap = overlap\n",
    "            bestsense = i \n",
    "            \n",
    "    return bestsense"
   ]
  },
  {
   "cell_type": "code",
   "execution_count": 47,
   "metadata": {
    "collapsed": false
   },
   "outputs": [],
   "source": [
    "def get_meanings(corpus_list, corpus_str):\n",
    "    for i, sent in enumerate(corpus_list):\n",
    "        meaning_number = lesk(\"break\", sent)\n",
    "        print(i+1, \"DEFINITION:\" + str(meaning_number) + '\\t'+ wn.synsets(\"break\")[meaning_number].definition())\n",
    "        print(i+1, \"SENTENCE: \", corpus_str[i])\n",
    "    return 0"
   ]
  },
  {
   "cell_type": "code",
   "execution_count": 48,
   "metadata": {
    "collapsed": false,
    "scrolled": false
   },
   "outputs": [
    {
     "data": {
      "text/plain": [
       "[['dog', \"'s\", 'pitch', 'invas', 'forc', 'earli', 'tea', 'break_NN'],\n",
       " ['let',\n",
       "  \"'s\",\n",
       "  'talk',\n",
       "  'about',\n",
       "  'what',\n",
       "  'chang',\n",
       "  'trump',\n",
       "  'might',\n",
       "  'make',\n",
       "  'regard',\n",
       "  'tax',\n",
       "  'cut',\n",
       "  'the',\n",
       "  'iran',\n",
       "  'nuclear',\n",
       "  'agreement',\n",
       "  'trade',\n",
       "  'and',\n",
       "  'what',\n",
       "  'the',\n",
       "  'consequ',\n",
       "  'might',\n",
       "  'be',\n",
       "  'if',\n",
       "  'trump',\n",
       "  'start',\n",
       "  'a',\n",
       "  'trade',\n",
       "  'war',\n",
       "  'with',\n",
       "  'china',\n",
       "  'after',\n",
       "  'we',\n",
       "  'take',\n",
       "  'a',\n",
       "  'short',\n",
       "  'break_NN'],\n",
       " ['the',\n",
       "  'insurg',\n",
       "  'had',\n",
       "  'seiz',\n",
       "  'a',\n",
       "  'coupl',\n",
       "  'of',\n",
       "  'strateg',\n",
       "  'area',\n",
       "  'in',\n",
       "  'western',\n",
       "  'aleppo',\n",
       "  'after',\n",
       "  'launch',\n",
       "  'an',\n",
       "  'offens',\n",
       "  'on',\n",
       "  'oct.',\n",
       "  '28',\n",
       "  'in',\n",
       "  'an',\n",
       "  'attempt',\n",
       "  'to',\n",
       "  'break_VB',\n",
       "  'the',\n",
       "  'sieg',\n",
       "  'impos',\n",
       "  'in',\n",
       "  'juli',\n",
       "  'on',\n",
       "  'rebel-held',\n",
       "  'eastern',\n",
       "  'aleppo',\n",
       "  'which',\n",
       "  'has',\n",
       "  'also',\n",
       "  'been',\n",
       "  'target',\n",
       "  'by',\n",
       "  'wave',\n",
       "  'of',\n",
       "  'syrian',\n",
       "  'and',\n",
       "  'russian',\n",
       "  'airstrik'],\n",
       " ['but',\n",
       "  'iranian',\n",
       "  'intern',\n",
       "  'azmoun',\n",
       "  'level',\n",
       "  'for',\n",
       "  'rostov',\n",
       "  'just',\n",
       "  'befor',\n",
       "  'the',\n",
       "  'break_NN',\n",
       "  'after',\n",
       "  'turn',\n",
       "  'jerom',\n",
       "  'boateng',\n",
       "  'to',\n",
       "  'coolli',\n",
       "  'slot',\n",
       "  'past',\n",
       "  'ulreich'],\n",
       " ['they', 'repres', 'a', 'grand', 'break_NN', 'from', 'the', 'past'],\n",
       " ['woodland',\n",
       "  'is',\n",
       "  'make',\n",
       "  'onli',\n",
       "  'his',\n",
       "  'third',\n",
       "  'start',\n",
       "  'on',\n",
       "  'the',\n",
       "  '2016-17',\n",
       "  'pga',\n",
       "  'tour',\n",
       "  'have',\n",
       "  'put',\n",
       "  'down',\n",
       "  'his',\n",
       "  'golf',\n",
       "  'club',\n",
       "  'for',\n",
       "  'a',\n",
       "  'while',\n",
       "  'to',\n",
       "  'get',\n",
       "  'marri',\n",
       "  'and',\n",
       "  'have',\n",
       "  'an',\n",
       "  'extend',\n",
       "  'break_NN',\n",
       "  'from',\n",
       "  'the',\n",
       "  'game'],\n",
       " ['cohen',\n",
       "  'a',\n",
       "  'nativ',\n",
       "  'of',\n",
       "  'quebec',\n",
       "  'was',\n",
       "  'alreadi',\n",
       "  'a',\n",
       "  'celebr',\n",
       "  'poet',\n",
       "  'and',\n",
       "  'novelist',\n",
       "  'when',\n",
       "  'he',\n",
       "  'move',\n",
       "  'to',\n",
       "  'new',\n",
       "  'york',\n",
       "  'in',\n",
       "  '1966',\n",
       "  'at',\n",
       "  'age',\n",
       "  '31',\n",
       "  'to',\n",
       "  'break_VB',\n",
       "  'into',\n",
       "  'the',\n",
       "  'music',\n",
       "  'busi'],\n",
       " ['beirut',\n",
       "  'ap',\n",
       "  'syrian',\n",
       "  'govern',\n",
       "  'forc',\n",
       "  'regain',\n",
       "  'control',\n",
       "  'saturday',\n",
       "  'of',\n",
       "  'area',\n",
       "  'they',\n",
       "  'lost',\n",
       "  'over',\n",
       "  'the',\n",
       "  'past',\n",
       "  'two',\n",
       "  'week',\n",
       "  'to',\n",
       "  'a',\n",
       "  'rebel',\n",
       "  'offens',\n",
       "  'on',\n",
       "  'the',\n",
       "  'edg',\n",
       "  'of',\n",
       "  'the',\n",
       "  'northern',\n",
       "  'citi',\n",
       "  'of',\n",
       "  'aleppo',\n",
       "  'end',\n",
       "  'a',\n",
       "  'major',\n",
       "  'attempt',\n",
       "  'by',\n",
       "  'insurg',\n",
       "  'to',\n",
       "  'break_VB',\n",
       "  'the',\n",
       "  'sieg',\n",
       "  'on',\n",
       "  'eastern',\n",
       "  'part',\n",
       "  'of',\n",
       "  'the',\n",
       "  'citi',\n",
       "  'an',\n",
       "  'activist',\n",
       "  'group',\n",
       "  'and',\n",
       "  'pro-govern',\n",
       "  'media',\n",
       "  'said'],\n",
       " ['this',\n",
       "  'is',\n",
       "  'usual',\n",
       "  'suffici',\n",
       "  'to',\n",
       "  'keep',\n",
       "  'the',\n",
       "  'sinker',\n",
       "  'from',\n",
       "  'move',\n",
       "  'but',\n",
       "  'at',\n",
       "  'time',\n",
       "  'you',\n",
       "  'may',\n",
       "  'want',\n",
       "  'to',\n",
       "  'also',\n",
       "  'jam',\n",
       "  'the',\n",
       "  'other',\n",
       "  'end',\n",
       "  'of',\n",
       "  'the',\n",
       "  'toothpick',\n",
       "  'into',\n",
       "  'the',\n",
       "  'back',\n",
       "  'of',\n",
       "  'the',\n",
       "  'cone',\n",
       "  'and',\n",
       "  'break_VB',\n",
       "  'it',\n",
       "  'off',\n",
       "  'to',\n",
       "  'keep',\n",
       "  'the',\n",
       "  'sinker',\n",
       "  'complet',\n",
       "  'immobil'],\n",
       " ['home',\n",
       "  'town',\n",
       "  'boy',\n",
       "  'jadeja',\n",
       "  'had',\n",
       "  'earlier',\n",
       "  'given',\n",
       "  'india',\n",
       "  'the',\n",
       "  'first',\n",
       "  'break_NN',\n",
       "  'at',\n",
       "  '47',\n",
       "  'success',\n",
       "  'earn',\n",
       "  'a',\n",
       "  'shout',\n",
       "  'for',\n",
       "  'leg',\n",
       "  'befor',\n",
       "  'wicket',\n",
       "  'against',\n",
       "  'england',\n",
       "  'skipper',\n",
       "  'cook']]"
      ]
     },
     "execution_count": 48,
     "metadata": {},
     "output_type": "execute_result"
    }
   ],
   "source": [
    "corpus_tagged = [get_tags_for_break(sent) for sent in corpus_10]\n",
    "corpus_tagged"
   ]
  },
  {
   "cell_type": "code",
   "execution_count": 49,
   "metadata": {
    "collapsed": false
   },
   "outputs": [
    {
     "name": "stdout",
     "output_type": "stream",
     "text": [
      "1 DEFINITION:62\tcease an action temporarily\n",
      "1 SENTENCE:  Dog's pitch invasion forces early tea break\n",
      "2 DEFINITION:62\tcease an action temporarily\n",
      "2 SENTENCE:  Let's talk about what changes Trump might make regarding tax cuts, the Iran nuclear agreement, trade and what the consequences might be if Trump starts a trade war with China after we take a short break.\n",
      "3 DEFINITION:16\tterminate\n",
      "3 SENTENCE:  The insurgents had seized a couple of strategic areas in western Aleppo after launching an offensive on Oct. 28 in an attempt to break the siege imposed in July on rebel-held eastern Aleppo, which has also been targeted by waves of Syrian and Russian airstrikes.\n",
      "4 DEFINITION:0\tsome abrupt occurrence that interrupts an ongoing activity\n",
      "4 SENTENCE:  But Iranian international Azmoun levelled for Rostov just before the break after turning Jerome Boateng to coolly slot past Ulreich.\n",
      "5 DEFINITION:0\tsome abrupt occurrence that interrupts an ongoing activity\n",
      "5 SENTENCE:  They represent a grand break from the past.\n",
      "6 DEFINITION:0\tsome abrupt occurrence that interrupts an ongoing activity\n",
      "6 SENTENCE:  Woodland is making only his third start on the 2016-17 PGA Tour, having put down his golf clubs for a while to get married and have an extended break from the game.\n",
      "7 DEFINITION:27\tmake submissive, obedient, or useful\n",
      "7 SENTENCE:  Cohen, a native of Quebec, was already a celebrated poet and novelist when he moved to New York in 1966 at age 31 to break into the music business.\n",
      "8 DEFINITION:11\t(tennis) a score consisting of winning a game when your opponent was serving\n",
      "8 SENTENCE:  BEIRUT (AP) — Syrian government forces regained control Saturday of areas they lost over the past two weeks to a rebel offensive on the edge of the northern city of Aleppo, ending a major attempt by insurgents to break the siege on eastern parts of the city, an activist group and pro-government media said.\n",
      "9 DEFINITION:16\tterminate\n",
      "9 SENTENCE:  This is usually sufficient to keep the sinker from moving, but at times you may want to also jam the other end of the toothpick into the back of the cone and break it off to keep the sinker completely immobile.\n",
      "10 DEFINITION:0\tsome abrupt occurrence that interrupts an ongoing activity\n",
      "10 SENTENCE:  Home town boy Jadeja had earlier given India the first break at 47, successfully earning a shout for leg before wicket against England skipper Cook.\n"
     ]
    },
    {
     "data": {
      "text/plain": [
       "0"
      ]
     },
     "execution_count": 49,
     "metadata": {},
     "output_type": "execute_result"
    }
   ],
   "source": [
    "get_meanings(corpus_10_tagged, corpus_10)"
   ]
  },
  {
   "cell_type": "markdown",
   "metadata": {},
   "source": [
    "Более-менее верно распознались первые 3 предложения. \n",
    "#### 3/10"
   ]
  },
  {
   "cell_type": "markdown",
   "metadata": {},
   "source": [
    "P.S. Ради эксперимента потестируем lesk nltk. В результате ни одного совпавшего значения. "
   ]
  },
  {
   "cell_type": "code",
   "execution_count": 50,
   "metadata": {
    "collapsed": false,
    "scrolled": false
   },
   "outputs": [
    {
     "name": "stdout",
     "output_type": "stream",
     "text": [
      "SENT:Dog's pitch invasion forces early tea break\n",
      "DEF: become fractured; break or crack on the surface only\n",
      "\n",
      "\n",
      "SENT:Let's talk about what changes Trump might make regarding tax cuts, the Iran nuclear agreement, trade and what the consequences might be if Trump starts a trade war with China after we take a short break.\n",
      "DEF: make known to the public information that was previously known only to a few people or that was meant to be kept a secret\n",
      "\n",
      "\n",
      "SENT:The insurgents had seized a couple of strategic areas in western Aleppo after launching an offensive on Oct. 28 in an attempt to break the siege imposed in July on rebel-held eastern Aleppo, which has also been targeted by waves of Syrian and Russian airstrikes.\n",
      "DEF: (geology) a crack in the earth's crust resulting from the displacement of one side with respect to the other\n",
      "\n",
      "\n",
      "SENT:But Iranian international Azmoun levelled for Rostov just before the break after turning Jerome Boateng to coolly slot past Ulreich.\n",
      "DEF: make known to the public information that was previously known only to a few people or that was meant to be kept a secret\n",
      "\n",
      "\n",
      "SENT:They represent a grand break from the past.\n",
      "DEF: (geology) a crack in the earth's crust resulting from the displacement of one side with respect to the other\n",
      "\n",
      "\n",
      "SENT:Woodland is making only his third start on the 2016-17 PGA Tour, having put down his golf clubs for a while to get married and have an extended break from the game.\n",
      "DEF: make known to the public information that was previously known only to a few people or that was meant to be kept a secret\n",
      "\n",
      "\n",
      "SENT:Cohen, a native of Quebec, was already a celebrated poet and novelist when he moved to New York in 1966 at age 31 to break into the music business.\n",
      "DEF: (geology) a crack in the earth's crust resulting from the displacement of one side with respect to the other\n",
      "\n",
      "\n",
      "SENT:BEIRUT (AP) — Syrian government forces regained control Saturday of areas they lost over the past two weeks to a rebel offensive on the edge of the northern city of Aleppo, ending a major attempt by insurgents to break the siege on eastern parts of the city, an activist group and pro-government media said.\n",
      "DEF: (geology) a crack in the earth's crust resulting from the displacement of one side with respect to the other\n",
      "\n",
      "\n",
      "SENT:This is usually sufficient to keep the sinker from moving, but at times you may want to also jam the other end of the toothpick into the back of the cone and break it off to keep the sinker completely immobile.\n",
      "DEF: (geology) a crack in the earth's crust resulting from the displacement of one side with respect to the other\n",
      "\n",
      "\n",
      "SENT:Home town boy Jadeja had earlier given India the first break at 47, successfully earning a shout for leg before wicket against England skipper Cook.\n",
      "DEF: make known to the public information that was previously known only to a few people or that was meant to be kept a secret\n",
      "\n",
      "\n"
     ]
    }
   ],
   "source": [
    "from nltk.wsd import lesk\n",
    "corpus_10_tokenized = [word_tokenize(sent) for sent in corpus_10]\n",
    "\n",
    "for i, sent in enumerate(corpus_10_tokenized):\n",
    "    definition = lesk(sent, 'break').definition()\n",
    "    print(\"SENT:\" + corpus_10[i], \"DEF: \" + definition, sep='\\n')\n",
    "    print('\\n')"
   ]
  }
 ],
 "metadata": {
  "kernelspec": {
   "display_name": "Python 3",
   "language": "python",
   "name": "python3"
  },
  "language_info": {
   "codemirror_mode": {
    "name": "ipython",
    "version": 3
   },
   "file_extension": ".py",
   "mimetype": "text/x-python",
   "name": "python",
   "nbconvert_exporter": "python",
   "pygments_lexer": "ipython3",
   "version": "3.6.8"
  }
 },
 "nbformat": 4,
 "nbformat_minor": 2
}
